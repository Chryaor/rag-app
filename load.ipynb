{
 "cells": [
  {
   "cell_type": "code",
   "execution_count": 13,
   "metadata": {},
   "outputs": [],
   "source": [
    "from dotenv import load_dotenv\n",
    "load_dotenv()\n",
    "import os\n",
    "from openai import OpenAI\n",
    "from pinecone import Pinecone, ServerlessSpec"
   ]
  },
  {
   "cell_type": "code",
   "execution_count": 7,
   "metadata": {},
   "outputs": [],
   "source": [
    "pc = Pinecone(api_key=\"your api key here\")\n",
    "pc.create_index(\n",
    "    name =\"rag\", dimension=1536, metric=\"cosine\", spec=ServerlessSpec(cloud=\"aws\", region=\"us-east-1\")\n",
    ")"
   ]
  },
  {
   "cell_type": "code",
   "execution_count": 12,
   "metadata": {},
   "outputs": [
    {
     "data": {
      "text/plain": [
       "[{'professor': 'Dr. Jane Smith',\n",
       "  'subject': 'Mathematics',\n",
       "  'stars': 5,\n",
       "  'review': 'Dr. Smith explains concepts very clearly and is always available for questions.'},\n",
       " {'professor': 'Dr. John Doe',\n",
       "  'subject': 'Physics',\n",
       "  'stars': 4,\n",
       "  'review': 'Good lecturer, but sometimes goes too fast. Overall, a good experience.'},\n",
       " {'professor': 'Dr. Emily Johnson',\n",
       "  'subject': 'Chemistry',\n",
       "  'stars': 3,\n",
       "  'review': 'Decent professor, but can be a bit confusing in lectures.'},\n",
       " {'professor': 'Dr. Michael Brown',\n",
       "  'subject': 'Biology',\n",
       "  'stars': 5,\n",
       "  'review': 'Excellent professor! Very knowledgeable and makes the material interesting.'},\n",
       " {'professor': 'Dr. Lisa White',\n",
       "  'subject': 'Computer Science',\n",
       "  'stars': 4,\n",
       "  'review': 'Great professor, but the workload can be overwhelming at times.'},\n",
       " {'professor': 'Dr. David Lee',\n",
       "  'subject': 'History',\n",
       "  'stars': 2,\n",
       "  'review': 'Not very engaging, and the lectures are often boring.'},\n",
       " {'professor': 'Dr. Susan Clark',\n",
       "  'subject': 'English Literature',\n",
       "  'stars': 5,\n",
       "  'review': 'Amazing professor! Her passion for literature is contagious.'},\n",
       " {'professor': 'Dr. Robert Hall',\n",
       "  'subject': 'Economics',\n",
       "  'stars': 4,\n",
       "  'review': 'Solid professor, but the exams are tough. Study hard!'},\n",
       " {'professor': 'Dr. Karen Lewis',\n",
       "  'subject': 'Psychology',\n",
       "  'stars': 3,\n",
       "  'review': 'Average professor. The lectures are okay, but the material is dry.'},\n",
       " {'professor': 'Dr. Charles Walker',\n",
       "  'subject': 'Sociology',\n",
       "  'stars': 4,\n",
       "  'review': 'Good professor, but the lectures can be a bit repetitive.'},\n",
       " {'professor': 'Dr. Jessica Martinez',\n",
       "  'subject': 'Political Science',\n",
       "  'stars': 5,\n",
       "  'review': 'Very insightful and knowledgeable. Highly recommended!'},\n",
       " {'professor': 'Dr. James Wilson',\n",
       "  'subject': 'Philosophy',\n",
       "  'stars': 4,\n",
       "  'review': 'Interesting lectures, but the material can be challenging.'},\n",
       " {'professor': 'Dr. Linda Young',\n",
       "  'subject': 'Art History',\n",
       "  'stars': 5,\n",
       "  'review': 'Dr. Young is fantastic! Her lectures are like storytelling.'},\n",
       " {'professor': 'Dr. Richard King',\n",
       "  'subject': 'Anthropology',\n",
       "  'stars': 3,\n",
       "  'review': 'The professor knows his stuff, but the class can be dull.'},\n",
       " {'professor': 'Dr. Patricia Wright',\n",
       "  'subject': 'Environmental Science',\n",
       "  'stars': 4,\n",
       "  'review': 'Engaging professor, but the coursework is demanding.'},\n",
       " {'professor': 'Dr. William Turner',\n",
       "  'subject': 'Business Administration',\n",
       "  'stars': 5,\n",
       "  'review': 'Top-notch professor! Very helpful and clear in explanations.'},\n",
       " {'professor': 'Dr. Deborah Harris',\n",
       "  'subject': 'Education',\n",
       "  'stars': 4,\n",
       "  'review': 'Good professor, but the grading is strict.'},\n",
       " {'professor': 'Dr. Brian Green',\n",
       "  'subject': 'Engineering',\n",
       "  'stars': 3,\n",
       "  'review': 'Knowledgeable, but not the best at explaining complex topics.'},\n",
       " {'professor': 'Dr. Amy Nelson',\n",
       "  'subject': 'Law',\n",
       "  'stars': 5,\n",
       "  'review': 'Amazing professor! Makes the material come alive.'},\n",
       " {'professor': 'Dr. Steven Adams',\n",
       "  'subject': 'Music',\n",
       "  'stars': 4,\n",
       "  'review': 'Great professor, but sometimes the classes feel rushed.'}]"
      ]
     },
     "execution_count": 12,
     "metadata": {},
     "output_type": "execute_result"
    }
   ],
   "source": [
    "import json\n",
    "data = json.load(open(\"reviews.json\"))\n",
    "data['reviews']"
   ]
  },
  {
   "cell_type": "code",
   "execution_count": 1,
   "metadata": {},
   "outputs": [
    {
     "ename": "NameError",
     "evalue": "name 'OpenAI' is not defined",
     "output_type": "error",
     "traceback": [
      "\u001b[1;31m---------------------------------------------------------------------------\u001b[0m",
      "\u001b[1;31mNameError\u001b[0m                                 Traceback (most recent call last)",
      "Cell \u001b[1;32mIn[1], line 2\u001b[0m\n\u001b[0;32m      1\u001b[0m processed_data \u001b[38;5;241m=\u001b[39m []\n\u001b[1;32m----> 2\u001b[0m client \u001b[38;5;241m=\u001b[39m \u001b[43mOpenAI\u001b[49m(api_key\u001b[38;5;241m=\u001b[39m\u001b[38;5;124m'\u001b[39m\u001b[38;5;124m'\u001b[39m)\n\u001b[0;32m      4\u001b[0m \u001b[38;5;66;03m# Embeddings\u001b[39;00m\n\u001b[0;32m      5\u001b[0m \u001b[38;5;28;01mfor\u001b[39;00m review \u001b[38;5;129;01min\u001b[39;00m data[\u001b[38;5;124m'\u001b[39m\u001b[38;5;124mreviews\u001b[39m\u001b[38;5;124m'\u001b[39m]:\n",
      "\u001b[1;31mNameError\u001b[0m: name 'OpenAI' is not defined"
     ]
    }
   ],
   "source": [
    "processed_data = []\n",
    "client = OpenAI(api_key='')\n",
    "\n",
    "# Embeddings\n",
    "for review in data['reviews']:\n",
    "    response = client.embeddings.create(\n",
    "        input=review['review'],\n",
    "        model=\"text-embedding-3-small\"\n",
    "    )\n",
    "    embedding = response.data[0].embedding\n",
    "    processed_data.append({\n",
    "        \"values\": embedding,\n",
    "        \"id\": review[\"professor\"],\n",
    "        \"metadata\": {\n",
    "            \"review\": review[\"review\"],\n",
    "            \"subject\": review[\"subject\"],\n",
    "            \"stars\": review[\"stars\"]\n",
    "        }\n",
    "    })"
   ]
  },
  {
   "cell_type": "code",
   "execution_count": 1,
   "metadata": {},
   "outputs": [
    {
     "ename": "NameError",
     "evalue": "name 'pc' is not defined",
     "output_type": "error",
     "traceback": [
      "\u001b[1;31m---------------------------------------------------------------------------\u001b[0m",
      "\u001b[1;31mNameError\u001b[0m                                 Traceback (most recent call last)",
      "Cell \u001b[1;32mIn[1], line 1\u001b[0m\n\u001b[1;32m----> 1\u001b[0m index \u001b[38;5;241m=\u001b[39m \u001b[43mpc\u001b[49m\u001b[38;5;241m.\u001b[39mIndex(\u001b[38;5;124m'\u001b[39m\u001b[38;5;124mrag\u001b[39m\u001b[38;5;124m'\u001b[39m)\n\u001b[0;32m      2\u001b[0m index\u001b[38;5;241m.\u001b[39mupsert(\n\u001b[0;32m      3\u001b[0m     vectors\u001b[38;5;241m=\u001b[39mprocessed_data,\n\u001b[0;32m      4\u001b[0m     namespace\u001b[38;5;241m=\u001b[39m\u001b[38;5;124m\"\u001b[39m\u001b[38;5;124mns1\u001b[39m\u001b[38;5;124m\"\u001b[39m\n\u001b[0;32m      5\u001b[0m )\n",
      "\u001b[1;31mNameError\u001b[0m: name 'pc' is not defined"
     ]
    }
   ],
   "source": [
    "index = pc.Index('rag')\n",
    "index.upsert(\n",
    "    vectors=processed_data,\n",
    "    namespace=\"ns1\"\n",
    ")"
   ]
  },
  {
   "cell_type": "code",
   "execution_count": null,
   "metadata": {},
   "outputs": [],
   "source": [
    "index.describe_index_stats()"
   ]
  },
  {
   "cell_type": "code",
   "execution_count": null,
   "metadata": {},
   "outputs": [],
   "source": []
  }
 ],
 "metadata": {
  "kernelspec": {
   "display_name": "Python 3.10.14 ('rag')",
   "language": "python",
   "name": "python3"
  },
  "language_info": {
   "codemirror_mode": {
    "name": "ipython",
    "version": 3
   },
   "file_extension": ".py",
   "mimetype": "text/x-python",
   "name": "python",
   "nbconvert_exporter": "python",
   "pygments_lexer": "ipython3",
   "version": "3.10.14"
  },
  "orig_nbformat": 4,
  "vscode": {
   "interpreter": {
    "hash": "924719d4078abbdb53264c0892ed9510fbdecc2cbbc7d28814edb808f9c4f03d"
   }
  }
 },
 "nbformat": 4,
 "nbformat_minor": 2
}
